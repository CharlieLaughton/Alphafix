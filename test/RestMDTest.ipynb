{
 "cells": [
  {
   "cell_type": "code",
   "execution_count": 1,
   "id": "1c984b71-466e-4742-ae4b-9e3e4e695805",
   "metadata": {},
   "outputs": [],
   "source": [
    "from cba_tools import cba_tools\n",
    "import mdtraj as mdt"
   ]
  },
  {
   "cell_type": "code",
   "execution_count": 2,
   "id": "d98c16ab-5623-42bc-9061-8113e95d0743",
   "metadata": {},
   "outputs": [
    {
     "name": "stdout",
     "output_type": "stream",
     "text": [
      "WEMERTDITMKHKLGGGQYGEVYEGVWKKYSLTVAVKTLKDTMEVEEFLKEAAVMKEIKHPNLVQLLGVCTREPPFYIITEFMTYGNLLDYLRECNRQEVNAVVLLYMATQISSAMEYLEKKNFIHRDLAARNCLVGENHLVKVADFGLSRLMTGDTYTAHAGAKFPIKWTAPESLAYNKFSIKSDVWAFGVLLWEIATYGMSPYPGIDLSQVYELLEKDYRMERPEGCPEKVYELMRACWQWNPSDRPSFAEIHQAFETMFQ\n"
     ]
    }
   ],
   "source": [
    "t = mdt.load('2hyy_A.pdb')\n",
    "seq = t.topology.to_fasta()[0]\n",
    "print(seq)"
   ]
  },
  {
   "cell_type": "code",
   "execution_count": 3,
   "id": "e06998c5-17fc-4144-bf5a-b88cbf912ad6",
   "metadata": {},
   "outputs": [
    {
     "name": "stdout",
     "output_type": "stream",
     "text": [
      "[{'uniprotAccession': 'P00519', 'percent_identity': 99.621}, {'uniprotAccession': 'P00520', 'percent_identity': 99.242}, {'uniprotAccession': 'P00521', 'percent_identity': 99.242}, {'uniprotAccession': 'P10447', 'percent_identity': 98.828}, {'uniprotAccession': 'P42684', 'percent_identity': 92.803}, {'uniprotAccession': 'Q4JIM5', 'percent_identity': 92.045}, {'uniprotAccession': 'P00522', 'percent_identity': 76.894}, {'uniprotAccession': 'P03949', 'percent_identity': 65.019}, {'uniprotAccession': 'P42689', 'percent_identity': 52.471}, {'uniprotAccession': 'P42690', 'percent_identity': 52.852}]\n"
     ]
    }
   ],
   "source": [
    "matches = cba_tools.sp_search(seq)\n",
    "print(matches)"
   ]
  },
  {
   "cell_type": "code",
   "execution_count": 2,
   "id": "d1bc5d8e-788d-4074-9465-86dfb82a33a0",
   "metadata": {},
   "outputs": [
    {
     "name": "stderr",
     "output_type": "stream",
     "text": [
      "/Users/pazcal/miniforge3/envs/ambertools/lib/python3.13/site-packages/mdtraj/formats/pdb/pdbfile.py:208: UserWarning: Unlikely unit cell vectors detected in PDB file likely resulting from a dummy CRYST1 record. Discarding unit cell vectors.\n",
      "  warnings.warn(\n"
     ]
    }
   ],
   "source": [
    "opt, log = cba_tools.alpha_fix('2hyy_A.pdb', ['P00519'], trim=True)"
   ]
  },
  {
   "cell_type": "code",
   "execution_count": 3,
   "id": "94907d3a-b6c3-42b2-9088-a7cf5a3441f7",
   "metadata": {},
   "outputs": [
    {
     "name": "stdout",
     "output_type": "stream",
     "text": [
      "*** ALPHAFIX V. 0.1 ***\n",
      "Comparison of protein chain A with uniprot entry P00519:\n",
      "Missing: M1-K234\n",
      "Missing atoms: R239: CD, NE, NH1, NH2, CZ\n",
      "Missing atoms: H246: CG, CD2, ND1, CE1, NE2\n",
      "Missing atoms: K274: CG, CD, CE, NZ\n",
      "Missing: E275\n",
      "Missing atoms: M278: CG, SD, CE\n",
      "Missing atoms: K285: CG, CD, CE, NZ\n",
      "Missing atoms: K294: CG, CD, CE, NZ\n",
      "Missing atoms: R307: CG, CD, NE, NH1, NH2, CZ\n",
      "Missing atoms: E308: CG, CD, OE1, OE2\n",
      "Missing atoms: K356: CD, CE, NZ\n",
      "Missing atoms: K357: CD, CE, NZ\n",
      "Missing atoms: R386: CD, NE, NH1, NH2, CZ\n",
      "Missing atoms: L387: CG, CD1, CD2\n",
      "Missing atoms: D391: CG, OD1, OD2\n",
      "Missing atoms: E466: CG, CD, OE1, OE2\n",
      "Missing atoms: K467: CG, CD, CE, NZ\n",
      "Missing atoms: E470: CG, CD, OE1, OE2\n",
      "Missing atoms: Q491: CD, NE2, OE1\n",
      "Missing atoms: E494: CD, OE1, OE2\n",
      "Missing: E499-R1130\n",
      "\n",
      "\n",
      "Optimisation 1:\n",
      "Restrained minimization performed using OpenMM\n",
      "force constant: 1.0 kcal/mol/Å²\n",
      "maximum cycles: 200\n",
      "initial energy: 53453.31 kcal/mol\n",
      "final energy: 6801.60 kcal/mol\n",
      "number of restrained atoms: 2073\n",
      "\n",
      "Optimisation 2:\n",
      "Restrained minimization performed using OpenMM\n",
      "force constant: 1.0 kcal/mol/Å²\n",
      "maximum cycles: 200\n",
      "initial energy: 1414385.89 kcal/mol\n",
      "final energy: 3087.81 kcal/mol\n",
      "number of restrained atoms: 2161\n",
      "\n"
     ]
    },
    {
     "data": {
      "text/plain": [
       "'2hyy_A_fixed.pdb'"
      ]
     },
     "execution_count": 3,
     "metadata": {},
     "output_type": "execute_result"
    }
   ],
   "source": [
    "print(log)\n",
    "opt.save('2hyy_A_fixed.pdb')"
   ]
  },
  {
   "cell_type": "code",
   "execution_count": null,
   "id": "66ca1108-24df-4e0e-b264-74bbf325b22c",
   "metadata": {},
   "outputs": [],
   "source": []
  }
 ],
 "metadata": {
  "kernelspec": {
   "display_name": "Python 3 (ipykernel)",
   "language": "python",
   "name": "python3"
  },
  "language_info": {
   "codemirror_mode": {
    "name": "ipython",
    "version": 3
   },
   "file_extension": ".py",
   "mimetype": "text/x-python",
   "name": "python",
   "nbconvert_exporter": "python",
   "pygments_lexer": "ipython3",
   "version": "3.12.11"
  }
 },
 "nbformat": 4,
 "nbformat_minor": 5
}
